{
  "nbformat": 4,
  "nbformat_minor": 0,
  "metadata": {
    "colab": {
      "name": "itch.io Scraper",
      "provenance": [],
      "collapsed_sections": [],
      "toc_visible": true,
      "authorship_tag": "ABX9TyOSassn8NM9ig/LWDsGCQui",
      "include_colab_link": true
    },
    "kernelspec": {
      "name": "python3",
      "display_name": "Python 3"
    }
  },
  "cells": [
    {
      "cell_type": "markdown",
      "metadata": {
        "id": "view-in-github",
        "colab_type": "text"
      },
      "source": [
        "<a href=\"https://colab.research.google.com/github/timrodz/google-colab-notebooks/blob/master/scraper-itch-io.ipynb\" target=\"_parent\"><img src=\"https://colab.research.google.com/assets/colab-badge.svg\" alt=\"Open In Colab\"/></a>"
      ]
    },
    {
      "cell_type": "markdown",
      "metadata": {
        "id": "hEoC85WZL_AP",
        "colab_type": "text"
      },
      "source": [
        "# itch.io Game Recommends!\n",
        "\n",
        "> To run this tool, click **Runtime > Run all**. It will take up to a minute, as it has to install local packages, and grab all the games from the website (They're more than 1500!).\n",
        "> \n",
        "> After you're done, head to the **Results** section. Here is where you can see your recommended games!\n",
        "\n",
        "Pro-tip: you can toggle any heading's visibility on/off."
      ]
    },
    {
      "cell_type": "markdown",
      "metadata": {
        "id": "v_0_DpOlL9BP",
        "colab_type": "text"
      },
      "source": [
        "## Setting up\n",
        "\n",
        "Technical only. Utilises `Selenium` + `BeautifulSoup` to scrape the itch.io website."
      ]
    },
    {
      "cell_type": "code",
      "metadata": {
        "id": "0h49GMXmL55e",
        "colab_type": "code",
        "outputId": "400ab89e-e393-409c-82a1-3ca43ebbcacc",
        "colab": {
          "base_uri": "https://localhost:8080/",
          "height": 382
        }
      },
      "source": [
        "!pip install selenium\n",
        "!apt-get update\n",
        "!apt install chromium-chromedriver\n",
        "!cp /usr/lib/chromium-browser/chromedriver /usr/bin\n",
        "import sys\n",
        "sys.path.insert(0,'/usr/lib/chromium-browser/chromedriver')\n",
        "\n",
        "import time\n",
        "import random\n",
        "\n",
        "from selenium import webdriver\n",
        "from selenium.webdriver.android.webdriver import WebDriver\n",
        "from selenium.webdriver.common.by import By\n",
        "from selenium.webdriver.common.keys import Keys\n",
        "from selenium.webdriver.support import expected_conditions as EC\n",
        "from selenium.webdriver.support.ui import WebDriverWait\n",
        "\n",
        "from bs4 import BeautifulSoup as BSoup"
      ],
      "execution_count": 1,
      "outputs": [
        {
          "output_type": "stream",
          "text": [
            "Requirement already satisfied: selenium in /usr/local/lib/python3.6/dist-packages (3.141.0)\n",
            "Requirement already satisfied: urllib3 in /usr/local/lib/python3.6/dist-packages (from selenium) (1.24.3)\n",
            "Hit:1 https://cloud.r-project.org/bin/linux/ubuntu bionic-cran35/ InRelease\n",
            "Ign:2 https://developer.download.nvidia.com/compute/cuda/repos/ubuntu1804/x86_64  InRelease\n",
            "Ign:3 https://developer.download.nvidia.com/compute/machine-learning/repos/ubuntu1804/x86_64  InRelease\n",
            "Hit:4 https://developer.download.nvidia.com/compute/cuda/repos/ubuntu1804/x86_64  Release\n",
            "Hit:5 http://ppa.launchpad.net/graphics-drivers/ppa/ubuntu bionic InRelease\n",
            "Hit:6 http://archive.ubuntu.com/ubuntu bionic InRelease\n",
            "Hit:7 https://developer.download.nvidia.com/compute/machine-learning/repos/ubuntu1804/x86_64  Release\n",
            "Get:8 http://security.ubuntu.com/ubuntu bionic-security InRelease [88.7 kB]\n",
            "Get:9 http://archive.ubuntu.com/ubuntu bionic-updates InRelease [88.7 kB]\n",
            "Hit:10 http://ppa.launchpad.net/marutter/c2d4u3.5/ubuntu bionic InRelease\n",
            "Get:12 http://archive.ubuntu.com/ubuntu bionic-backports InRelease [74.6 kB]\n",
            "Fetched 252 kB in 2s (145 kB/s)\n",
            "Reading package lists... Done\n",
            "Reading package lists... Done\n",
            "Building dependency tree       \n",
            "Reading state information... Done\n",
            "chromium-chromedriver is already the newest version (83.0.4103.61-0ubuntu0.18.04.1).\n",
            "0 upgraded, 0 newly installed, 0 to remove and 71 not upgraded.\n",
            "cp: '/usr/lib/chromium-browser/chromedriver' and '/usr/bin/chromedriver' are the same file\n"
          ],
          "name": "stdout"
        }
      ]
    },
    {
      "cell_type": "code",
      "metadata": {
        "id": "TREoP8LhL6XG",
        "colab_type": "code",
        "colab": {}
      },
      "source": [
        "class SeleniumObject(object):\n",
        "\t\"\"\"\n",
        "\tSelenium object with init parameters\n",
        "\t\"\"\"\n",
        "\tdefault_user_agent = [\n",
        "\t\t'Mozilla/5.0 (X11; Linux x86_64) AppleWebKit/537.36 (KHTML, like Gecko) Chrome/60.0.3112.50 Safari/537.36',\n",
        "\t\t'Mozilla/5.0 (Windows NT 10.0; Win64; x64) AppleWebKit/537.36 (KHTML, like Gecko) Chrome/78.0.3904.70 Safari/537.36',\n",
        "\t\t'Mozilla/5.0 (Windows NT 10.0; Win64; x64) AppleWebKit/537.36 (KHTML, like Gecko) Chrome/64.0.3282.140 Safari/537.36 Edge/18.17763'\n",
        "\t]\n",
        "\n",
        "\tdriver = None\n",
        "\n",
        "\tdef __init__(self):\n",
        "\t\toptions = webdriver.ChromeOptions()\n",
        "\t\toptions.add_argument('--headless')\n",
        "\t\toptions.add_argument('--window-size=1280,720')\n",
        "\t\toptions.add_argument('--disable-gpu')\n",
        "\t\toptions.add_argument('--disable-dev-shm-usage')\n",
        "\t\toptions.add_argument('--no-sandbox')\n",
        "\t\toptions.add_argument('--user-agent=\"{}\"'.format(\n",
        "\t\t\tself.default_user_agent[random.randint(0, 2)])\n",
        "\t\t)\n",
        "\t\tself.options = options\n",
        "\n",
        "\tdef init_driver(self):\n",
        "\t\tself.driver = webdriver.Chrome(options=self.options)\n",
        "\n",
        "\tdef add_option(self, name: str) -> None:\n",
        "\t\tself.options.add_argument(name)\n",
        "\n",
        "\tdef add_experimental_option(self, name: str, value: any) -> None:\n",
        "\t\tself.options.add_experimental_option(name, value)\n",
        "\n",
        "\tdef get_driver(self, connect_session=None) -> WebDriver or None:\n",
        "\t\tif not self.driver:\n",
        "\t\t\treturn None\n",
        "\t\treturn connect_session(self.driver) if connect_session else self.driver\n",
        "\n",
        "def get_driver() -> WebDriver:\n",
        "\tprefs = {'profile.managed_default_content_settings.images': 2, 'disk-cache-size': 4096}\n",
        "\tso = SeleniumObject()\n",
        "\tso.add_option(' - incognito')\n",
        "\tso.add_experimental_option('prefs', prefs)\n",
        "\tso.init_driver()\n",
        "\treturn so.get_driver()"
      ],
      "execution_count": 0,
      "outputs": []
    },
    {
      "cell_type": "markdown",
      "metadata": {
        "id": "zrwQDLb2MA1H",
        "colab_type": "text"
      },
      "source": [
        "## Acquiring and formatting the data"
      ]
    },
    {
      "cell_type": "markdown",
      "metadata": {
        "id": "GQKJomPuP0Eu",
        "colab_type": "text"
      },
      "source": [
        "### Step 1: Fetch\n",
        "\n",
        "We will fetch data from https://itch.io/b/520/bundle-for-racial-justice-and-equality. It contains all game entries inside one `div` element.\n",
        "\n",
        "The itch webpage scrolls infinitely. In order to get all games, we must keep scrolling endlessly for a while until we're able to find the true end of the webpage. Source: [Stack Overflow](https://stackoverflow.com/questions/20986631/how-can-i-scroll-a-web-page-using-selenium-webdriver-in-python)."
      ]
    },
    {
      "cell_type": "code",
      "metadata": {
        "id": "Y1WI05YgMaY-",
        "colab_type": "code",
        "colab": {}
      },
      "source": [
        "endpoint = 'https://itch.io/b/520/bundle-for-racial-justice-and-equality'\n",
        "driver = get_driver()\n",
        "driver.get(endpoint)"
      ],
      "execution_count": 0,
      "outputs": []
    },
    {
      "cell_type": "markdown",
      "metadata": {
        "id": "BSV4-iIWTVEG",
        "colab_type": "text"
      },
      "source": [
        "Now, we define a method that will load the entire webpage using Selenium, and we'll use BeautifulSoup to extract what we need. "
      ]
    },
    {
      "cell_type": "code",
      "metadata": {
        "id": "2EB53NMwMlBz",
        "colab_type": "code",
        "colab": {}
      },
      "source": [
        "def get_game_list(driver: WebDriver):\n",
        "  \"\"\"\n",
        "  Games are located in the following XPath directory\n",
        "  //div[@class=\"grid_sizer_children\"]\n",
        "  \"\"\"\n",
        "  scroll_pause_time = 0.5\n",
        "\n",
        "  # Get scroll height\n",
        "  last_height = driver.execute_script(\"return document.body.scrollHeight\")\n",
        "\n",
        "  while True:\n",
        "    # Scroll down to bottom\n",
        "    driver.execute_script(\"window.scrollTo(0, document.body.scrollHeight);\")\n",
        "\n",
        "    # Wait to load page\n",
        "    time.sleep(scroll_pause_time)\n",
        "\n",
        "    # Calculate new scroll height and compare with last scroll height\n",
        "    new_height = driver.execute_script(\"return document.body.scrollHeight\")\n",
        "    if new_height == last_height:\n",
        "      break\n",
        "    last_height = new_height\n",
        "\n",
        "  bsj = BSoup(driver.page_source, 'html.parser')\n",
        "\n",
        "  try:\n",
        "    element = bsj.find_all('div', {'class': 'grid_sizer_children'})[0]\n",
        "  except Exception:\n",
        "    raise\n",
        "  \n",
        "  return element"
      ],
      "execution_count": 0,
      "outputs": []
    },
    {
      "cell_type": "code",
      "metadata": {
        "id": "AwYgJrlfMfkQ",
        "colab_type": "code",
        "colab": {}
      },
      "source": [
        "games = get_game_list(driver)"
      ],
      "execution_count": 0,
      "outputs": []
    },
    {
      "cell_type": "code",
      "metadata": {
        "id": "ZImrGsLrNVHG",
        "colab_type": "code",
        "outputId": "fed40a33-0927-4272-890a-4269fcc5068f",
        "colab": {
          "base_uri": "https://localhost:8080/",
          "height": 0
        }
      },
      "source": [
        "# Let's see how many games we have!\n",
        "len(games)"
      ],
      "execution_count": 6,
      "outputs": [
        {
          "output_type": "execute_result",
          "data": {
            "text/plain": [
              "1509"
            ]
          },
          "metadata": {
            "tags": []
          },
          "execution_count": 6
        }
      ]
    },
    {
      "cell_type": "markdown",
      "metadata": {
        "id": "i66Wqc9bPsMw",
        "colab_type": "text"
      },
      "source": [
        "### Step 2: Format\n",
        "\n",
        "Here is where we manipulate the data into a human-readable format. This step heavily relies on understanding how the website's HTML works before attempting to find elements. The easiest way is to find an elements tag and either its class, id, or custom attribute!"
      ]
    },
    {
      "cell_type": "code",
      "metadata": {
        "id": "Rr8iZ_FLNa_f",
        "colab_type": "code",
        "colab": {}
      },
      "source": [
        "formatted_games = []\n",
        "\n",
        "for g in games:\n",
        "  # Game information\n",
        "  label = g.find('div', {'class': 'label'})\n",
        "  label_data = label.find('a', href=True)\n",
        "  game_name = label_data.text\n",
        "  game_url = label_data['href']\n",
        "\n",
        "  short_text = g.find('div', {'class': 'sub short_text'})\n",
        "  game_description = short_text.text if short_text else ''\n",
        "\n",
        "  # Developer information\n",
        "  user_row = g.find('div', {'class': 'user_row'})\n",
        "  user_row_data = user_row.find('a', href=True)\n",
        "  developer_name = user_row_data.text\n",
        "  developer_url = user_row_data['href']\n",
        "  \n",
        "  # Add the games to a list that will contain all the formatted values\n",
        "  formatted_games.append(dict(\n",
        "      game_name=game_name,\n",
        "      game_url=game_url,\n",
        "      game_description=game_description,\n",
        "      developer_name=developer_name,\n",
        "      developer_url=developer_url,\n",
        "  ))"
      ],
      "execution_count": 0,
      "outputs": []
    },
    {
      "cell_type": "code",
      "metadata": {
        "id": "OzIAeBO7T8Mv",
        "colab_type": "code",
        "colab": {
          "base_uri": "https://localhost:8080/",
          "height": 0
        },
        "outputId": "6fd0d6e2-dd97-4d4e-cd1b-e39abce764f7"
      },
      "source": [
        "# Show the first 3 values to make sure they look ok\n",
        "formatted_games[:3]"
      ],
      "execution_count": 8,
      "outputs": [
        {
          "output_type": "execute_result",
          "data": {
            "text/plain": [
              "[{'developer_name': 'Finji',\n",
              "  'developer_url': 'https://finji.itch.io',\n",
              "  'game_description': 'A squad-based survival strategy game with procedurally generated levels set in post-apocalyptic North America.',\n",
              "  'game_name': 'Overland',\n",
              "  'game_url': 'https://finji.itch.io/overland'},\n",
              " {'developer_name': 'Finji',\n",
              "  'developer_url': 'https://finji.itch.io',\n",
              "  'game_description': 'At the end of everything, hold onto anything.',\n",
              "  'game_name': 'Night in the Woods',\n",
              "  'game_url': 'https://finji.itch.io/night-in-the-woods'},\n",
              " {'developer_name': 'Kenney',\n",
              "  'developer_url': 'https://kenney.itch.io',\n",
              "  'game_description': '20,000+ game assets for use in your games!',\n",
              "  'game_name': 'Kenney Game Assets 1',\n",
              "  'game_url': 'https://kenney.itch.io/kenney-game-assets-1'}]"
            ]
          },
          "metadata": {
            "tags": []
          },
          "execution_count": 8
        }
      ]
    },
    {
      "cell_type": "markdown",
      "metadata": {
        "id": "47XMvYtC8vFd",
        "colab_type": "text"
      },
      "source": [
        "### Step 3: Creating the game generator"
      ]
    },
    {
      "cell_type": "code",
      "metadata": {
        "id": "IPiijDex486T",
        "colab_type": "code",
        "colab": {}
      },
      "source": [
        "# Keep track of which games are being recommended, so we don't repeat them\n",
        "recommended_games = []\n",
        "\n",
        "def get_random_game() -> dict:\n",
        "  \"\"\"\n",
        "  Uses the `random.choice` method\n",
        "  https://docs.python.org/3/library/random.html#random.choice\n",
        "  \"\"\"\n",
        "  # Create a temporary list that removes games which have been recommended\n",
        "  temp_game_list = [x for x in formatted_games if x['game_name'] not in recommended_games]\n",
        "  game = random.choice(temp_game_list)\n",
        "\n",
        "  # Add the newly recommended game to the list\n",
        "  recommended_games.append(game['game_name'])\n",
        "  return game"
      ],
      "execution_count": 0,
      "outputs": []
    },
    {
      "cell_type": "markdown",
      "metadata": {
        "id": "SQho0x11Cp5p",
        "colab_type": "text"
      },
      "source": [
        "## Results\n",
        "\n",
        "TL;DR: Here is where you will get your game recommendations. Run the cell below to get a different game, every time!"
      ]
    },
    {
      "cell_type": "code",
      "metadata": {
        "id": "P3Ty0-hr60YL",
        "colab_type": "code",
        "outputId": "7b732488-e5b0-48ce-c547-1d25169dcdd7",
        "colab": {
          "base_uri": "https://localhost:8080/",
          "height": 54
        }
      },
      "source": [
        "# Run this cell to get a new random game!\n",
        "rnd_game = get_random_game()\n",
        "print(rnd_game)"
      ],
      "execution_count": 10,
      "outputs": [
        {
          "output_type": "stream",
          "text": [
            "{'game_name': 'The Testimony of Trixie Glimmer Smith', 'game_url': 'https://digital-poppy.itch.io/trixie', 'game_description': 'Trixie Glimmer Smith finds a haunted book. Hijinks ensue.', 'developer_name': 'Digital Poppy', 'developer_url': 'https://digital-poppy.itch.io'}\n"
          ],
          "name": "stdout"
        }
      ]
    },
    {
      "cell_type": "code",
      "metadata": {
        "id": "OFQpgpWZAlJR",
        "colab_type": "code",
        "outputId": "563e082d-c2c0-4dec-d67b-e90548cda9ce",
        "colab": {
          "base_uri": "https://localhost:8080/",
          "height": 34
        }
      },
      "source": [
        "# Keep track of the recommended games - Run this cell to refresh the list\n",
        "recommended_games"
      ],
      "execution_count": 11,
      "outputs": [
        {
          "output_type": "execute_result",
          "data": {
            "text/plain": [
              "['The Testimony of Trixie Glimmer Smith']"
            ]
          },
          "metadata": {
            "tags": []
          },
          "execution_count": 11
        }
      ]
    }
  ]
}